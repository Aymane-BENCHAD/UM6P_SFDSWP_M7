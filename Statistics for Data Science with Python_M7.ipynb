{
  "metadata": {
    "kernelspec": {
      "name": "python",
      "display_name": "Python (Pyodide)",
      "language": "python"
    },
    "language_info": {
      "codemirror_mode": {
        "name": "python",
        "version": 3
      },
      "file_extension": ".py",
      "mimetype": "text/x-python",
      "name": "python",
      "nbconvert_exporter": "python",
      "pygments_lexer": "ipython3",
      "version": "3.8"
    }
  },
  "nbformat_minor": 4,
  "nbformat": 4,
  "cells": [
    {
      "cell_type": "markdown",
      "source": "<p style=\"text-align:center\">\n    <a href=\"https://skills.network/?utm_medium=Exinfluencer&utm_source=Exinfluencer&utm_content=000026UJ&utm_term=10006555&utm_id=NA-SkillsNetwork-Channel-SkillsNetworkCoursesIBMDeveloperSkillsNetworkST0151ENSkillsNetwork20531532-2022-01-01\" target=\"_blank\">\n    <img src=\"https://cf-courses-data.s3.us.cloud-object-storage.appdomain.cloud/assets/logos/SN_web_lightmode.png\" width=\"200\" alt=\"Skills Network Logo\"  />\n    </a>\n</p>\n\n",
      "metadata": {}
    },
    {
      "cell_type": "markdown",
      "source": "#### Import the required libraries we need for the lab.\n",
      "metadata": {}
    },
    {
      "cell_type": "code",
      "source": "import piplite\nawait piplite.install(['numpy'],['pandas'])\nawait piplite.install(['seaborn'])",
      "metadata": {
        "trusted": true
      },
      "outputs": [],
      "execution_count": null
    },
    {
      "cell_type": "code",
      "source": "import pandas as pd\nimport pandas as pd\nimport seaborn as sns\nimport matplotlib.pyplot as plt\nimport scipy.stats\nimport statsmodels.api as sm\nfrom statsmodels.formula.api import ols",
      "metadata": {
        "trusted": true
      },
      "outputs": [],
      "execution_count": null
    },
    {
      "cell_type": "markdown",
      "source": "#### Read the dataset in the csv file from the URL\n",
      "metadata": {}
    },
    {
      "cell_type": "code",
      "source": "from js import fetch\nimport io\n\nURL = 'https://cf-courses-data.s3.us.cloud-object-storage.appdomain.cloud/IBMDeveloperSkillsNetwork-ST0151EN-SkillsNetwork/labs/boston_housing.csv'\nresp = await fetch(URL)\nboston_url = io.BytesIO((await resp.arrayBuffer()).to_py())",
      "metadata": {
        "trusted": true
      },
      "outputs": [],
      "execution_count": null
    },
    {
      "cell_type": "code",
      "source": "boston_df=pd.read_csv(boston_url)",
      "metadata": {
        "trusted": true
      },
      "outputs": [],
      "execution_count": null
    },
    {
      "cell_type": "markdown",
      "source": "# Task 1: Become familiar with the dataset",
      "metadata": {}
    },
    {
      "cell_type": "code",
      "source": "boston_df.head()",
      "metadata": {
        "trusted": true
      },
      "outputs": [],
      "execution_count": null
    },
    {
      "cell_type": "markdown",
      "source": "#### Add your code below following the instructions given in the course to complete the peer graded assignment\n",
      "metadata": {}
    },
    {
      "cell_type": "markdown",
      "source": "# Task 2: Generate Descriptive Statistics and Visualizations",
      "metadata": {}
    },
    {
      "cell_type": "markdown",
      "source": "## Q1 : For the \"Median value of owner-occupied homes\" provide a boxplot",
      "metadata": {}
    },
    {
      "cell_type": "code",
      "source": "sns.boxplot(y='MEDV', data = boston_df)\nplt.title(\"Boxplot of MEDV\")\nplt.ylabel(\"MEDV\")\nplt.show()",
      "metadata": {
        "trusted": true
      },
      "outputs": [],
      "execution_count": null
    },
    {
      "cell_type": "markdown",
      "source": "## Q2 : Provide a  bar plot for the Charles river variable",
      "metadata": {}
    },
    {
      "cell_type": "code",
      "source": "sns.catplot(x='CHAS',kind='count', data=boston_df)\nplt.show()",
      "metadata": {
        "trusted": true
      },
      "outputs": [],
      "execution_count": null
    },
    {
      "cell_type": "markdown",
      "source": "## Q3 : Provide a boxplot for the MEDV variable vs the AGE variable.",
      "metadata": {}
    },
    {
      "cell_type": "markdown",
      "source": "#### *(Discretize the age variable into three groups of 35 years and younger, between 35 and 70 years and 70 years and older)*",
      "metadata": {}
    },
    {
      "cell_type": "code",
      "source": "# Discretizing AGE variable\nboston_df.loc[(boston_df['AGE'] <= 35), 'AGE_GRP'] = '35 years and younger'\nboston_df.loc[(boston_df['AGE'] > 35)&(boston_df['AGE'] < 70), 'AGE_GRP'] = 'between 35 and 70 years'\nboston_df.loc[(boston_df['AGE'] >= 70), 'AGE_GRP'] = '70 years and older'\n# Plotting Boxplot\nsns.boxplot(x='AGE_GRP', y='MEDV', order = ['35 years and younger', 'between 35 and 70 years', '70 years and older'], data = boston_df)\nplt.show()",
      "metadata": {
        "trusted": true
      },
      "outputs": [],
      "execution_count": null
    },
    {
      "cell_type": "markdown",
      "source": "## Q4 : Provide a scatter plot to show the relationship between Nitric oxide concentrations and the proportion of non-retail business acres per town. What can you say about the relationship?",
      "metadata": {}
    },
    {
      "cell_type": "code",
      "source": "sns.scatterplot(x='INDUS', y='NOX', data=boston_df)\nplt.show()",
      "metadata": {
        "trusted": true
      },
      "outputs": [],
      "execution_count": null
    },
    {
      "cell_type": "markdown",
      "source": "## Q5 : Create a histogram for the pupil to teacher ratio variable",
      "metadata": {}
    },
    {
      "cell_type": "code",
      "source": "sns.displot(boston_df['PTRATIO'], color='green', kde=True)\nplt.show()",
      "metadata": {
        "trusted": true
      },
      "outputs": [],
      "execution_count": null
    },
    {
      "cell_type": "markdown",
      "source": "# Task 3: Use the appropriate tests to answer the questions provided.",
      "metadata": {}
    },
    {
      "cell_type": "markdown",
      "source": "## Q1 : Is there a significant difference in median value of houses bounded by the Charles river or not? (T-test for independent samples)",
      "metadata": {}
    },
    {
      "cell_type": "markdown",
      "source": "$H₀$ : No difference in MEDV between CHAS groups\n\n$α$ = 0.05",
      "metadata": {}
    },
    {
      "cell_type": "code",
      "source": "t_stat, p_value_tt = scipy.stats.ttest_ind(boston_df[boston_df['CHAS'] == 1]['MEDV'],\n                                        boston_df[boston_df['CHAS'] == 0]['MEDV'], \n                                        equal_var = False)\nprint(\"P_value : \", p_value_tt)",
      "metadata": {
        "trusted": true
      },
      "outputs": [],
      "execution_count": null
    },
    {
      "cell_type": "markdown",
      "source": "$p = 0.00356 < 0.05$ → We reject the null hypothesis.\n\nThere is a statistically significant difference in median house values between houses near the Charles River and those not near it. Houses located near the river tend to have higher median values.",
      "metadata": {}
    },
    {
      "cell_type": "markdown",
      "source": "## Q2 : Is there a difference in Median values of houses (MEDV) for each proportion of owner occupied units built prior to 1940 (AGE)? (ANOVA)",
      "metadata": {}
    },
    {
      "cell_type": "markdown",
      "source": "$H₀$ : The average MEDV is the same across all AGE groups\n\n$α$ = 0.05",
      "metadata": {}
    },
    {
      "cell_type": "code",
      "source": "f_statistic_anova, p_value_anova = scipy.stats.f_oneway(boston_df[boston_df['AGE_GRP'] == '35 years and younger']['MEDV'],\n                                            boston_df[boston_df['AGE_GRP'] == 'between 35 and 70 years']['MEDV'],\n                                            boston_df[boston_df['AGE_GRP'] == '70 years and older']['MEDV'])\nprint(\"P-Value : \",p_value_anova)",
      "metadata": {
        "trusted": true
      },
      "outputs": [],
      "execution_count": null
    },
    {
      "cell_type": "markdown",
      "source": "$p < 0.05$ → We reject the null hypothesis.\n\nThere is a statistically significant difference in median house values between at least two age groups.",
      "metadata": {}
    },
    {
      "cell_type": "markdown",
      "source": "## Q3 : Can we conclude that there is no relationship between Nitric oxide concentrations and proportion of non-retail business acres per town? (Pearson Correlation)",
      "metadata": {}
    },
    {
      "cell_type": "markdown",
      "source": "$H₀$ : There is no linear correlation between NOX (nitric oxide concentration) and INDUS (percentage of industrial land).\n\n$α$ = 0.05",
      "metadata": {}
    },
    {
      "cell_type": "code",
      "source": "f_statistic_pearson, p_value_pearson = scipy.stats.pearsonr(boston_df['NOX'], boston_df['INDUS']) \nprint(\"P-Value : \",p_value_pearson)",
      "metadata": {
        "trusted": true
      },
      "outputs": [],
      "execution_count": null
    },
    {
      "cell_type": "markdown",
      "source": "$p < 0.05$ → We reject the null hypothesis.\n\nThere is a strong and statistically significant positive correlation between NOX and INDUS. This suggests that more industrial areas tend to have higher air pollution levels.",
      "metadata": {}
    },
    {
      "cell_type": "markdown",
      "source": "## Q4 : What is the impact of an additional weighted distance  to the five Boston employment centres on the median value of owner occupied homes? (Regression analysis)",
      "metadata": {}
    },
    {
      "cell_type": "markdown",
      "source": "$H₀$ : The distance to employment centers (DIS) has no effect on median house value (MEDV).\n\n$α$ = 0.05",
      "metadata": {}
    },
    {
      "cell_type": "code",
      "source": "X = boston_df['DIS']\ny = boston_df['MEDV']\nX = sm.add_constant(X) \n\nmodel = sm.OLS(y, X).fit()\npredictions = model.predict(X)\n\n# Print out the statistics\nmodel.summary()",
      "metadata": {
        "trusted": true
      },
      "outputs": [],
      "execution_count": null
    },
    {
      "cell_type": "markdown",
      "source": "$p < 0.05$ → We reject the null hypothesis.\n\nDIS has a statistically significant and positive effect on MEDV.\nHowever, the R-squared value of 0.0625 indicates that DIS alone is statistically significant, but not a strong predictor on its own.\n\n**Answer to the question :**\n\nFor each additional unit of distance, the median value of houses increases by about *$1091.6*",
      "metadata": {}
    },
    {
      "cell_type": "markdown",
      "source": "# Author\n## Aymane BENCHAD",
      "metadata": {}
    }
  ]
}